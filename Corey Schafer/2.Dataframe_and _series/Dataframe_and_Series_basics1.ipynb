{
 "cells": [
  {
   "cell_type": "code",
   "execution_count": 1,
   "id": "eb14eee4",
   "metadata": {},
   "outputs": [],
   "source": [
    "import pandas as pd"
   ]
  },
  {
   "cell_type": "code",
   "execution_count": 2,
   "id": "aba82f1f",
   "metadata": {},
   "outputs": [],
   "source": [
    "# crearting a dictonary\n",
    "\n",
    "people = {\n",
    "    \"first\" :[\"Ram\",\"Hari\",\"Shyam\"],\n",
    "    \"last\" : [\"Thapa\",\"Paudel\",\"Oli\"],\n",
    "    \"email\" : [\"ramthaapa@gmail.com\",\"haripaudel@gmail.com\",\"shyamoli@gmail.com\"]\n",
    "} \n"
   ]
  },
  {
   "cell_type": "code",
   "execution_count": 3,
   "id": "06b544b4",
   "metadata": {},
   "outputs": [
    {
     "data": {
      "text/plain": [
       "['ramthaapa@gmail.com', 'haripaudel@gmail.com', 'shyamoli@gmail.com']"
      ]
     },
     "execution_count": 3,
     "metadata": {},
     "output_type": "execute_result"
    }
   ],
   "source": [
    "people['email']"
   ]
  },
  {
   "cell_type": "code",
   "execution_count": 4,
   "id": "91c66e77",
   "metadata": {},
   "outputs": [
    {
     "data": {
      "text/html": [
       "<div>\n",
       "<style scoped>\n",
       "    .dataframe tbody tr th:only-of-type {\n",
       "        vertical-align: middle;\n",
       "    }\n",
       "\n",
       "    .dataframe tbody tr th {\n",
       "        vertical-align: top;\n",
       "    }\n",
       "\n",
       "    .dataframe thead th {\n",
       "        text-align: right;\n",
       "    }\n",
       "</style>\n",
       "<table border=\"1\" class=\"dataframe\">\n",
       "  <thead>\n",
       "    <tr style=\"text-align: right;\">\n",
       "      <th></th>\n",
       "      <th>first</th>\n",
       "      <th>last</th>\n",
       "      <th>email</th>\n",
       "    </tr>\n",
       "  </thead>\n",
       "  <tbody>\n",
       "    <tr>\n",
       "      <th>0</th>\n",
       "      <td>Ram</td>\n",
       "      <td>Thapa</td>\n",
       "      <td>ramthaapa@gmail.com</td>\n",
       "    </tr>\n",
       "    <tr>\n",
       "      <th>1</th>\n",
       "      <td>Hari</td>\n",
       "      <td>Paudel</td>\n",
       "      <td>haripaudel@gmail.com</td>\n",
       "    </tr>\n",
       "    <tr>\n",
       "      <th>2</th>\n",
       "      <td>Shyam</td>\n",
       "      <td>Oli</td>\n",
       "      <td>shyamoli@gmail.com</td>\n",
       "    </tr>\n",
       "  </tbody>\n",
       "</table>\n",
       "</div>"
      ],
      "text/plain": [
       "   first    last                 email\n",
       "0    Ram   Thapa   ramthaapa@gmail.com\n",
       "1   Hari  Paudel  haripaudel@gmail.com\n",
       "2  Shyam     Oli    shyamoli@gmail.com"
      ]
     },
     "execution_count": 4,
     "metadata": {},
     "output_type": "execute_result"
    }
   ],
   "source": [
    "# Creating a dataframe from the dictionary\n",
    "df = pd.DataFrame(people)\n",
    "\n",
    "df"
   ]
  },
  {
   "cell_type": "code",
   "execution_count": 6,
   "id": "8701f828",
   "metadata": {},
   "outputs": [
    {
     "data": {
      "text/plain": [
       "0     ramthaapa@gmail.com\n",
       "1    haripaudel@gmail.com\n",
       "2      shyamoli@gmail.com\n",
       "Name: email, dtype: object"
      ]
     },
     "execution_count": 6,
     "metadata": {},
     "output_type": "execute_result"
    }
   ],
   "source": [
    "# Accessing the single column email of the dataframe \n",
    "\n",
    "df['email']\n"
   ]
  },
  {
   "cell_type": "code",
   "execution_count": 7,
   "id": "a32aed38",
   "metadata": {},
   "outputs": [
    {
     "data": {
      "text/plain": [
       "pandas.core.series.Series"
      ]
     },
     "execution_count": 7,
     "metadata": {},
     "output_type": "execute_result"
    }
   ],
   "source": [
    "type(df['email']) # the datatype of df['email'] is series"
   ]
  },
  {
   "cell_type": "code",
   "execution_count": 8,
   "id": "e6e09d07",
   "metadata": {},
   "outputs": [
    {
     "data": {
      "text/plain": [
       "0     ramthaapa@gmail.com\n",
       "1    haripaudel@gmail.com\n",
       "2      shyamoli@gmail.com\n",
       "Name: email, dtype: object"
      ]
     },
     "execution_count": 8,
     "metadata": {},
     "output_type": "execute_result"
    }
   ],
   "source": [
    "df.email  # gives same result as df['email']\n"
   ]
  },
  {
   "cell_type": "code",
   "execution_count": 12,
   "id": "54a41e08",
   "metadata": {},
   "outputs": [
    {
     "data": {
      "text/html": [
       "<div>\n",
       "<style scoped>\n",
       "    .dataframe tbody tr th:only-of-type {\n",
       "        vertical-align: middle;\n",
       "    }\n",
       "\n",
       "    .dataframe tbody tr th {\n",
       "        vertical-align: top;\n",
       "    }\n",
       "\n",
       "    .dataframe thead th {\n",
       "        text-align: right;\n",
       "    }\n",
       "</style>\n",
       "<table border=\"1\" class=\"dataframe\">\n",
       "  <thead>\n",
       "    <tr style=\"text-align: right;\">\n",
       "      <th></th>\n",
       "      <th>last</th>\n",
       "      <th>email</th>\n",
       "    </tr>\n",
       "  </thead>\n",
       "  <tbody>\n",
       "    <tr>\n",
       "      <th>0</th>\n",
       "      <td>Thapa</td>\n",
       "      <td>ramthaapa@gmail.com</td>\n",
       "    </tr>\n",
       "    <tr>\n",
       "      <th>1</th>\n",
       "      <td>Paudel</td>\n",
       "      <td>haripaudel@gmail.com</td>\n",
       "    </tr>\n",
       "    <tr>\n",
       "      <th>2</th>\n",
       "      <td>Oli</td>\n",
       "      <td>shyamoli@gmail.com</td>\n",
       "    </tr>\n",
       "  </tbody>\n",
       "</table>\n",
       "</div>"
      ],
      "text/plain": [
       "     last                 email\n",
       "0   Thapa   ramthaapa@gmail.com\n",
       "1  Paudel  haripaudel@gmail.com\n",
       "2     Oli    shyamoli@gmail.com"
      ]
     },
     "execution_count": 12,
     "metadata": {},
     "output_type": "execute_result"
    }
   ],
   "source": [
    "df[['last','email']]  # Accessing more than one columns ie in this case last and email\n",
    "\n"
   ]
  },
  {
   "cell_type": "code",
   "execution_count": 14,
   "id": "d4ab8118",
   "metadata": {},
   "outputs": [
    {
     "data": {
      "text/plain": [
       "pandas.core.frame.DataFrame"
      ]
     },
     "execution_count": 14,
     "metadata": {},
     "output_type": "execute_result"
    }
   ],
   "source": [
    "# this doesnot remains as series its type now becomes dataframe\n",
    "type(df[['last','email']])"
   ]
  },
  {
   "cell_type": "markdown",
   "id": "0b533cdd",
   "metadata": {},
   "source": [
    "NOTE :- It is preferred to access columns using columnname in a bracket \n",
    "        like (df['column name which we want to access']) rather than the dot method \n",
    "        like (df.column_name) beacuse if the column name matches the builtin method names then using dot will\n",
    "        call the builtin method.\n",
    "    "
   ]
  },
  {
   "cell_type": "code",
   "execution_count": 15,
   "id": "dcc6aa19",
   "metadata": {},
   "outputs": [
    {
     "data": {
      "text/plain": [
       "Index(['first', 'last', 'email'], dtype='object')"
      ]
     },
     "execution_count": 15,
     "metadata": {},
     "output_type": "execute_result"
    }
   ],
   "source": [
    "df.columns  # it gives the columns"
   ]
  },
  {
   "cell_type": "code",
   "execution_count": 16,
   "id": "c8262f23",
   "metadata": {},
   "outputs": [
    {
     "data": {
      "text/plain": [
       "first                    Ram\n",
       "last                   Thapa\n",
       "email    ramthaapa@gmail.com\n",
       "Name: 0, dtype: object"
      ]
     },
     "execution_count": 16,
     "metadata": {},
     "output_type": "execute_result"
    }
   ],
   "source": [
    "# iloc is used to access dataframe using integer location \n",
    "\n",
    "df.iloc[0] # it gives the first row"
   ]
  },
  {
   "cell_type": "code",
   "execution_count": 17,
   "id": "4bbdeda9",
   "metadata": {},
   "outputs": [
    {
     "data": {
      "text/html": [
       "<div>\n",
       "<style scoped>\n",
       "    .dataframe tbody tr th:only-of-type {\n",
       "        vertical-align: middle;\n",
       "    }\n",
       "\n",
       "    .dataframe tbody tr th {\n",
       "        vertical-align: top;\n",
       "    }\n",
       "\n",
       "    .dataframe thead th {\n",
       "        text-align: right;\n",
       "    }\n",
       "</style>\n",
       "<table border=\"1\" class=\"dataframe\">\n",
       "  <thead>\n",
       "    <tr style=\"text-align: right;\">\n",
       "      <th></th>\n",
       "      <th>first</th>\n",
       "      <th>last</th>\n",
       "      <th>email</th>\n",
       "    </tr>\n",
       "  </thead>\n",
       "  <tbody>\n",
       "    <tr>\n",
       "      <th>0</th>\n",
       "      <td>Ram</td>\n",
       "      <td>Thapa</td>\n",
       "      <td>ramthaapa@gmail.com</td>\n",
       "    </tr>\n",
       "    <tr>\n",
       "      <th>2</th>\n",
       "      <td>Shyam</td>\n",
       "      <td>Oli</td>\n",
       "      <td>shyamoli@gmail.com</td>\n",
       "    </tr>\n",
       "  </tbody>\n",
       "</table>\n",
       "</div>"
      ],
      "text/plain": [
       "   first   last                email\n",
       "0    Ram  Thapa  ramthaapa@gmail.com\n",
       "2  Shyam    Oli   shyamoli@gmail.com"
      ]
     },
     "execution_count": 17,
     "metadata": {},
     "output_type": "execute_result"
    }
   ],
   "source": [
    "# Accessing multiple rows\n",
    "\n",
    "df.iloc[[0,2]] # accessing first and last row"
   ]
  },
  {
   "cell_type": "code",
   "execution_count": 18,
   "id": "cf73d4df",
   "metadata": {},
   "outputs": [
    {
     "data": {
      "text/plain": [
       "0    ramthaapa@gmail.com\n",
       "2     shyamoli@gmail.com\n",
       "Name: email, dtype: object"
      ]
     },
     "execution_count": 18,
     "metadata": {},
     "output_type": "execute_result"
    }
   ],
   "source": [
    "df.iloc[[0,2],2] # this gives the email address of the first and third row"
   ]
  },
  {
   "cell_type": "code",
   "execution_count": 19,
   "id": "e1901a10",
   "metadata": {},
   "outputs": [
    {
     "data": {
      "text/html": [
       "<div>\n",
       "<style scoped>\n",
       "    .dataframe tbody tr th:only-of-type {\n",
       "        vertical-align: middle;\n",
       "    }\n",
       "\n",
       "    .dataframe tbody tr th {\n",
       "        vertical-align: top;\n",
       "    }\n",
       "\n",
       "    .dataframe thead th {\n",
       "        text-align: right;\n",
       "    }\n",
       "</style>\n",
       "<table border=\"1\" class=\"dataframe\">\n",
       "  <thead>\n",
       "    <tr style=\"text-align: right;\">\n",
       "      <th></th>\n",
       "      <th>first</th>\n",
       "      <th>last</th>\n",
       "      <th>email</th>\n",
       "    </tr>\n",
       "  </thead>\n",
       "  <tbody>\n",
       "    <tr>\n",
       "      <th>0</th>\n",
       "      <td>Ram</td>\n",
       "      <td>Thapa</td>\n",
       "      <td>ramthaapa@gmail.com</td>\n",
       "    </tr>\n",
       "    <tr>\n",
       "      <th>1</th>\n",
       "      <td>Hari</td>\n",
       "      <td>Paudel</td>\n",
       "      <td>haripaudel@gmail.com</td>\n",
       "    </tr>\n",
       "    <tr>\n",
       "      <th>2</th>\n",
       "      <td>Shyam</td>\n",
       "      <td>Oli</td>\n",
       "      <td>shyamoli@gmail.com</td>\n",
       "    </tr>\n",
       "  </tbody>\n",
       "</table>\n",
       "</div>"
      ],
      "text/plain": [
       "   first    last                 email\n",
       "0    Ram   Thapa   ramthaapa@gmail.com\n",
       "1   Hari  Paudel  haripaudel@gmail.com\n",
       "2  Shyam     Oli    shyamoli@gmail.com"
      ]
     },
     "execution_count": 19,
     "metadata": {},
     "output_type": "execute_result"
    }
   ],
   "source": [
    "df\n"
   ]
  },
  {
   "cell_type": "code",
   "execution_count": 20,
   "id": "ba6db75a",
   "metadata": {},
   "outputs": [
    {
     "data": {
      "text/plain": [
       "first                    Ram\n",
       "last                   Thapa\n",
       "email    ramthaapa@gmail.com\n",
       "Name: 0, dtype: object"
      ]
     },
     "execution_count": 20,
     "metadata": {},
     "output_type": "execute_result"
    }
   ],
   "source": [
    "# loc used label to access dataframe \n",
    "\n",
    "df.loc[0]  # here 0 is the label for first row"
   ]
  },
  {
   "cell_type": "code",
   "execution_count": 22,
   "id": "50b7afd4",
   "metadata": {},
   "outputs": [
    {
     "data": {
      "text/html": [
       "<div>\n",
       "<style scoped>\n",
       "    .dataframe tbody tr th:only-of-type {\n",
       "        vertical-align: middle;\n",
       "    }\n",
       "\n",
       "    .dataframe tbody tr th {\n",
       "        vertical-align: top;\n",
       "    }\n",
       "\n",
       "    .dataframe thead th {\n",
       "        text-align: right;\n",
       "    }\n",
       "</style>\n",
       "<table border=\"1\" class=\"dataframe\">\n",
       "  <thead>\n",
       "    <tr style=\"text-align: right;\">\n",
       "      <th></th>\n",
       "      <th>first</th>\n",
       "      <th>last</th>\n",
       "      <th>email</th>\n",
       "    </tr>\n",
       "  </thead>\n",
       "  <tbody>\n",
       "    <tr>\n",
       "      <th>1</th>\n",
       "      <td>Hari</td>\n",
       "      <td>Paudel</td>\n",
       "      <td>haripaudel@gmail.com</td>\n",
       "    </tr>\n",
       "    <tr>\n",
       "      <th>2</th>\n",
       "      <td>Shyam</td>\n",
       "      <td>Oli</td>\n",
       "      <td>shyamoli@gmail.com</td>\n",
       "    </tr>\n",
       "  </tbody>\n",
       "</table>\n",
       "</div>"
      ],
      "text/plain": [
       "   first    last                 email\n",
       "1   Hari  Paudel  haripaudel@gmail.com\n",
       "2  Shyam     Oli    shyamoli@gmail.com"
      ]
     },
     "execution_count": 22,
     "metadata": {},
     "output_type": "execute_result"
    }
   ],
   "source": [
    "# accessing multiple rows\n",
    "\n",
    "df.loc[[1,2]]"
   ]
  },
  {
   "cell_type": "code",
   "execution_count": 24,
   "id": "df347b60",
   "metadata": {},
   "outputs": [
    {
     "data": {
      "text/plain": [
       "0     ramthaapa@gmail.com\n",
       "1    haripaudel@gmail.com\n",
       "Name: email, dtype: object"
      ]
     },
     "execution_count": 24,
     "metadata": {},
     "output_type": "execute_result"
    }
   ],
   "source": [
    "# aeeceesing both rows and columns at a time\n",
    "\n",
    "df.loc[[0,1],\"email\"]  # gives the email of first and second row"
   ]
  },
  {
   "cell_type": "code",
   "execution_count": 25,
   "id": "10216591",
   "metadata": {},
   "outputs": [
    {
     "data": {
      "text/html": [
       "<div>\n",
       "<style scoped>\n",
       "    .dataframe tbody tr th:only-of-type {\n",
       "        vertical-align: middle;\n",
       "    }\n",
       "\n",
       "    .dataframe tbody tr th {\n",
       "        vertical-align: top;\n",
       "    }\n",
       "\n",
       "    .dataframe thead th {\n",
       "        text-align: right;\n",
       "    }\n",
       "</style>\n",
       "<table border=\"1\" class=\"dataframe\">\n",
       "  <thead>\n",
       "    <tr style=\"text-align: right;\">\n",
       "      <th></th>\n",
       "      <th>first</th>\n",
       "      <th>email</th>\n",
       "    </tr>\n",
       "  </thead>\n",
       "  <tbody>\n",
       "    <tr>\n",
       "      <th>0</th>\n",
       "      <td>Ram</td>\n",
       "      <td>ramthaapa@gmail.com</td>\n",
       "    </tr>\n",
       "    <tr>\n",
       "      <th>1</th>\n",
       "      <td>Hari</td>\n",
       "      <td>haripaudel@gmail.com</td>\n",
       "    </tr>\n",
       "  </tbody>\n",
       "</table>\n",
       "</div>"
      ],
      "text/plain": [
       "  first                 email\n",
       "0   Ram   ramthaapa@gmail.com\n",
       "1  Hari  haripaudel@gmail.com"
      ]
     },
     "execution_count": 25,
     "metadata": {},
     "output_type": "execute_result"
    }
   ],
   "source": [
    "df.loc[[0,1],['first','email']]  # gives the first and email of first and second row"
   ]
  },
  {
   "cell_type": "code",
   "execution_count": null,
   "id": "b3e0ab85",
   "metadata": {},
   "outputs": [],
   "source": []
  }
 ],
 "metadata": {
  "kernelspec": {
   "display_name": "Python 3 (ipykernel)",
   "language": "python",
   "name": "python3"
  },
  "language_info": {
   "codemirror_mode": {
    "name": "ipython",
    "version": 3
   },
   "file_extension": ".py",
   "mimetype": "text/x-python",
   "name": "python",
   "nbconvert_exporter": "python",
   "pygments_lexer": "ipython3",
   "version": "3.10.6"
  }
 },
 "nbformat": 4,
 "nbformat_minor": 5
}
