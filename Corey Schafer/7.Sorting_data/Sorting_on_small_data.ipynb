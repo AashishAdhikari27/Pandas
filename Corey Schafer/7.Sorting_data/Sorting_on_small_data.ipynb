{
 "cells": [
  {
   "cell_type": "code",
   "execution_count": 1,
   "id": "3e8d2df6",
   "metadata": {},
   "outputs": [],
   "source": [
    "import pandas as pd"
   ]
  },
  {
   "cell_type": "code",
   "execution_count": 2,
   "id": "4353b69a",
   "metadata": {},
   "outputs": [],
   "source": [
    "\n",
    "people = {\n",
    "    \"first\" :[\"Ram\",\"Hari\",\"Shyam\",\"Arav\"],\n",
    "    \"last\" : [\"Thapa\",\"Paudel\",\"Oli\",\"Oli\"],\n",
    "    \"email\" : [\"ramthaapa@gmail.com\",\"haripaudel@gmail.com\",\"shyamoli@gmail.com\",\"a@gmail.com\"]\n",
    "} \n"
   ]
  },
  {
   "cell_type": "code",
   "execution_count": 3,
   "id": "52fb5236",
   "metadata": {},
   "outputs": [],
   "source": [
    "df = pd.DataFrame(people)"
   ]
  },
  {
   "cell_type": "code",
   "execution_count": 4,
   "id": "1df4e7d7",
   "metadata": {},
   "outputs": [
    {
     "data": {
      "text/html": [
       "<div>\n",
       "<style scoped>\n",
       "    .dataframe tbody tr th:only-of-type {\n",
       "        vertical-align: middle;\n",
       "    }\n",
       "\n",
       "    .dataframe tbody tr th {\n",
       "        vertical-align: top;\n",
       "    }\n",
       "\n",
       "    .dataframe thead th {\n",
       "        text-align: right;\n",
       "    }\n",
       "</style>\n",
       "<table border=\"1\" class=\"dataframe\">\n",
       "  <thead>\n",
       "    <tr style=\"text-align: right;\">\n",
       "      <th></th>\n",
       "      <th>first</th>\n",
       "      <th>last</th>\n",
       "      <th>email</th>\n",
       "    </tr>\n",
       "  </thead>\n",
       "  <tbody>\n",
       "    <tr>\n",
       "      <th>0</th>\n",
       "      <td>Ram</td>\n",
       "      <td>Thapa</td>\n",
       "      <td>ramthaapa@gmail.com</td>\n",
       "    </tr>\n",
       "    <tr>\n",
       "      <th>1</th>\n",
       "      <td>Hari</td>\n",
       "      <td>Paudel</td>\n",
       "      <td>haripaudel@gmail.com</td>\n",
       "    </tr>\n",
       "    <tr>\n",
       "      <th>2</th>\n",
       "      <td>Shyam</td>\n",
       "      <td>Oli</td>\n",
       "      <td>shyamoli@gmail.com</td>\n",
       "    </tr>\n",
       "    <tr>\n",
       "      <th>3</th>\n",
       "      <td>Arav</td>\n",
       "      <td>Oli</td>\n",
       "      <td>a@gmail.com</td>\n",
       "    </tr>\n",
       "  </tbody>\n",
       "</table>\n",
       "</div>"
      ],
      "text/plain": [
       "   first    last                 email\n",
       "0    Ram   Thapa   ramthaapa@gmail.com\n",
       "1   Hari  Paudel  haripaudel@gmail.com\n",
       "2  Shyam     Oli    shyamoli@gmail.com\n",
       "3   Arav     Oli           a@gmail.com"
      ]
     },
     "execution_count": 4,
     "metadata": {},
     "output_type": "execute_result"
    }
   ],
   "source": [
    "df"
   ]
  },
  {
   "cell_type": "code",
   "execution_count": 5,
   "id": "404c37b5",
   "metadata": {},
   "outputs": [
    {
     "data": {
      "text/html": [
       "<div>\n",
       "<style scoped>\n",
       "    .dataframe tbody tr th:only-of-type {\n",
       "        vertical-align: middle;\n",
       "    }\n",
       "\n",
       "    .dataframe tbody tr th {\n",
       "        vertical-align: top;\n",
       "    }\n",
       "\n",
       "    .dataframe thead th {\n",
       "        text-align: right;\n",
       "    }\n",
       "</style>\n",
       "<table border=\"1\" class=\"dataframe\">\n",
       "  <thead>\n",
       "    <tr style=\"text-align: right;\">\n",
       "      <th></th>\n",
       "      <th>first</th>\n",
       "      <th>last</th>\n",
       "      <th>email</th>\n",
       "    </tr>\n",
       "  </thead>\n",
       "  <tbody>\n",
       "    <tr>\n",
       "      <th>2</th>\n",
       "      <td>Shyam</td>\n",
       "      <td>Oli</td>\n",
       "      <td>shyamoli@gmail.com</td>\n",
       "    </tr>\n",
       "    <tr>\n",
       "      <th>3</th>\n",
       "      <td>Arav</td>\n",
       "      <td>Oli</td>\n",
       "      <td>a@gmail.com</td>\n",
       "    </tr>\n",
       "    <tr>\n",
       "      <th>1</th>\n",
       "      <td>Hari</td>\n",
       "      <td>Paudel</td>\n",
       "      <td>haripaudel@gmail.com</td>\n",
       "    </tr>\n",
       "    <tr>\n",
       "      <th>0</th>\n",
       "      <td>Ram</td>\n",
       "      <td>Thapa</td>\n",
       "      <td>ramthaapa@gmail.com</td>\n",
       "    </tr>\n",
       "  </tbody>\n",
       "</table>\n",
       "</div>"
      ],
      "text/plain": [
       "   first    last                 email\n",
       "2  Shyam     Oli    shyamoli@gmail.com\n",
       "3   Arav     Oli           a@gmail.com\n",
       "1   Hari  Paudel  haripaudel@gmail.com\n",
       "0    Ram   Thapa   ramthaapa@gmail.com"
      ]
     },
     "execution_count": 5,
     "metadata": {},
     "output_type": "execute_result"
    }
   ],
   "source": [
    "# sorting a single column\n",
    "df.sort_values(by = 'last') # sortinng a single column named last # this sorts in ascending order\n"
   ]
  },
  {
   "cell_type": "code",
   "execution_count": 6,
   "id": "f82cc37d",
   "metadata": {},
   "outputs": [
    {
     "data": {
      "text/html": [
       "<div>\n",
       "<style scoped>\n",
       "    .dataframe tbody tr th:only-of-type {\n",
       "        vertical-align: middle;\n",
       "    }\n",
       "\n",
       "    .dataframe tbody tr th {\n",
       "        vertical-align: top;\n",
       "    }\n",
       "\n",
       "    .dataframe thead th {\n",
       "        text-align: right;\n",
       "    }\n",
       "</style>\n",
       "<table border=\"1\" class=\"dataframe\">\n",
       "  <thead>\n",
       "    <tr style=\"text-align: right;\">\n",
       "      <th></th>\n",
       "      <th>first</th>\n",
       "      <th>last</th>\n",
       "      <th>email</th>\n",
       "    </tr>\n",
       "  </thead>\n",
       "  <tbody>\n",
       "    <tr>\n",
       "      <th>0</th>\n",
       "      <td>Ram</td>\n",
       "      <td>Thapa</td>\n",
       "      <td>ramthaapa@gmail.com</td>\n",
       "    </tr>\n",
       "    <tr>\n",
       "      <th>1</th>\n",
       "      <td>Hari</td>\n",
       "      <td>Paudel</td>\n",
       "      <td>haripaudel@gmail.com</td>\n",
       "    </tr>\n",
       "    <tr>\n",
       "      <th>2</th>\n",
       "      <td>Shyam</td>\n",
       "      <td>Oli</td>\n",
       "      <td>shyamoli@gmail.com</td>\n",
       "    </tr>\n",
       "    <tr>\n",
       "      <th>3</th>\n",
       "      <td>Arav</td>\n",
       "      <td>Oli</td>\n",
       "      <td>a@gmail.com</td>\n",
       "    </tr>\n",
       "  </tbody>\n",
       "</table>\n",
       "</div>"
      ],
      "text/plain": [
       "   first    last                 email\n",
       "0    Ram   Thapa   ramthaapa@gmail.com\n",
       "1   Hari  Paudel  haripaudel@gmail.com\n",
       "2  Shyam     Oli    shyamoli@gmail.com\n",
       "3   Arav     Oli           a@gmail.com"
      ]
     },
     "execution_count": 6,
     "metadata": {},
     "output_type": "execute_result"
    }
   ],
   "source": [
    "df.sort_values(by = 'last',ascending = False)\n",
    "# to sort in descending order we have to set an argument ascending to false "
   ]
  },
  {
   "cell_type": "code",
   "execution_count": 7,
   "id": "1ca8e0ed",
   "metadata": {},
   "outputs": [
    {
     "data": {
      "text/html": [
       "<div>\n",
       "<style scoped>\n",
       "    .dataframe tbody tr th:only-of-type {\n",
       "        vertical-align: middle;\n",
       "    }\n",
       "\n",
       "    .dataframe tbody tr th {\n",
       "        vertical-align: top;\n",
       "    }\n",
       "\n",
       "    .dataframe thead th {\n",
       "        text-align: right;\n",
       "    }\n",
       "</style>\n",
       "<table border=\"1\" class=\"dataframe\">\n",
       "  <thead>\n",
       "    <tr style=\"text-align: right;\">\n",
       "      <th></th>\n",
       "      <th>first</th>\n",
       "      <th>last</th>\n",
       "      <th>email</th>\n",
       "    </tr>\n",
       "  </thead>\n",
       "  <tbody>\n",
       "    <tr>\n",
       "      <th>2</th>\n",
       "      <td>Shyam</td>\n",
       "      <td>Oli</td>\n",
       "      <td>shyamoli@gmail.com</td>\n",
       "    </tr>\n",
       "    <tr>\n",
       "      <th>0</th>\n",
       "      <td>Ram</td>\n",
       "      <td>Thapa</td>\n",
       "      <td>ramthaapa@gmail.com</td>\n",
       "    </tr>\n",
       "    <tr>\n",
       "      <th>1</th>\n",
       "      <td>Hari</td>\n",
       "      <td>Paudel</td>\n",
       "      <td>haripaudel@gmail.com</td>\n",
       "    </tr>\n",
       "    <tr>\n",
       "      <th>3</th>\n",
       "      <td>Arav</td>\n",
       "      <td>Oli</td>\n",
       "      <td>a@gmail.com</td>\n",
       "    </tr>\n",
       "  </tbody>\n",
       "</table>\n",
       "</div>"
      ],
      "text/plain": [
       "   first    last                 email\n",
       "2  Shyam     Oli    shyamoli@gmail.com\n",
       "0    Ram   Thapa   ramthaapa@gmail.com\n",
       "1   Hari  Paudel  haripaudel@gmail.com\n",
       "3   Arav     Oli           a@gmail.com"
      ]
     },
     "execution_count": 7,
     "metadata": {},
     "output_type": "execute_result"
    }
   ],
   "source": [
    "# sorting multiple columns\n",
    "\n",
    "df.sort_values(by = ['first','last'],ascending = False) # sorting the columns named first and last"
   ]
  },
  {
   "cell_type": "code",
   "execution_count": 9,
   "id": "1e35de78",
   "metadata": {},
   "outputs": [
    {
     "data": {
      "text/html": [
       "<div>\n",
       "<style scoped>\n",
       "    .dataframe tbody tr th:only-of-type {\n",
       "        vertical-align: middle;\n",
       "    }\n",
       "\n",
       "    .dataframe tbody tr th {\n",
       "        vertical-align: top;\n",
       "    }\n",
       "\n",
       "    .dataframe thead th {\n",
       "        text-align: right;\n",
       "    }\n",
       "</style>\n",
       "<table border=\"1\" class=\"dataframe\">\n",
       "  <thead>\n",
       "    <tr style=\"text-align: right;\">\n",
       "      <th></th>\n",
       "      <th>first</th>\n",
       "      <th>last</th>\n",
       "      <th>email</th>\n",
       "    </tr>\n",
       "  </thead>\n",
       "  <tbody>\n",
       "    <tr>\n",
       "      <th>0</th>\n",
       "      <td>Ram</td>\n",
       "      <td>Thapa</td>\n",
       "      <td>ramthaapa@gmail.com</td>\n",
       "    </tr>\n",
       "    <tr>\n",
       "      <th>1</th>\n",
       "      <td>Hari</td>\n",
       "      <td>Paudel</td>\n",
       "      <td>haripaudel@gmail.com</td>\n",
       "    </tr>\n",
       "    <tr>\n",
       "      <th>3</th>\n",
       "      <td>Arav</td>\n",
       "      <td>Oli</td>\n",
       "      <td>a@gmail.com</td>\n",
       "    </tr>\n",
       "    <tr>\n",
       "      <th>2</th>\n",
       "      <td>Shyam</td>\n",
       "      <td>Oli</td>\n",
       "      <td>shyamoli@gmail.com</td>\n",
       "    </tr>\n",
       "  </tbody>\n",
       "</table>\n",
       "</div>"
      ],
      "text/plain": [
       "   first    last                 email\n",
       "0    Ram   Thapa   ramthaapa@gmail.com\n",
       "1   Hari  Paudel  haripaudel@gmail.com\n",
       "3   Arav     Oli           a@gmail.com\n",
       "2  Shyam     Oli    shyamoli@gmail.com"
      ]
     },
     "execution_count": 9,
     "metadata": {},
     "output_type": "execute_result"
    }
   ],
   "source": [
    "# sorting multiple columns with different sorting order\n",
    "df.sort_values(by=['last','first'],ascending=[False,True]) \n",
    "# sorts last name coloumn in descending order and first name column in ascending order \n"
   ]
  },
  {
   "cell_type": "code",
   "execution_count": 10,
   "id": "479cb858",
   "metadata": {},
   "outputs": [],
   "source": [
    "# we can set an argument inplace is true to make this sort permanent in the dataframe\n",
    "\n",
    "df.sort_values(by=['last','first'],ascending=[False,True],inplace= True) "
   ]
  },
  {
   "cell_type": "code",
   "execution_count": 11,
   "id": "9d374f55",
   "metadata": {},
   "outputs": [
    {
     "data": {
      "text/html": [
       "<div>\n",
       "<style scoped>\n",
       "    .dataframe tbody tr th:only-of-type {\n",
       "        vertical-align: middle;\n",
       "    }\n",
       "\n",
       "    .dataframe tbody tr th {\n",
       "        vertical-align: top;\n",
       "    }\n",
       "\n",
       "    .dataframe thead th {\n",
       "        text-align: right;\n",
       "    }\n",
       "</style>\n",
       "<table border=\"1\" class=\"dataframe\">\n",
       "  <thead>\n",
       "    <tr style=\"text-align: right;\">\n",
       "      <th></th>\n",
       "      <th>first</th>\n",
       "      <th>last</th>\n",
       "      <th>email</th>\n",
       "    </tr>\n",
       "  </thead>\n",
       "  <tbody>\n",
       "    <tr>\n",
       "      <th>0</th>\n",
       "      <td>Ram</td>\n",
       "      <td>Thapa</td>\n",
       "      <td>ramthaapa@gmail.com</td>\n",
       "    </tr>\n",
       "    <tr>\n",
       "      <th>1</th>\n",
       "      <td>Hari</td>\n",
       "      <td>Paudel</td>\n",
       "      <td>haripaudel@gmail.com</td>\n",
       "    </tr>\n",
       "    <tr>\n",
       "      <th>3</th>\n",
       "      <td>Arav</td>\n",
       "      <td>Oli</td>\n",
       "      <td>a@gmail.com</td>\n",
       "    </tr>\n",
       "    <tr>\n",
       "      <th>2</th>\n",
       "      <td>Shyam</td>\n",
       "      <td>Oli</td>\n",
       "      <td>shyamoli@gmail.com</td>\n",
       "    </tr>\n",
       "  </tbody>\n",
       "</table>\n",
       "</div>"
      ],
      "text/plain": [
       "   first    last                 email\n",
       "0    Ram   Thapa   ramthaapa@gmail.com\n",
       "1   Hari  Paudel  haripaudel@gmail.com\n",
       "3   Arav     Oli           a@gmail.com\n",
       "2  Shyam     Oli    shyamoli@gmail.com"
      ]
     },
     "execution_count": 11,
     "metadata": {},
     "output_type": "execute_result"
    }
   ],
   "source": [
    "df"
   ]
  },
  {
   "cell_type": "code",
   "execution_count": 12,
   "id": "e0387ff7",
   "metadata": {},
   "outputs": [
    {
     "data": {
      "text/html": [
       "<div>\n",
       "<style scoped>\n",
       "    .dataframe tbody tr th:only-of-type {\n",
       "        vertical-align: middle;\n",
       "    }\n",
       "\n",
       "    .dataframe tbody tr th {\n",
       "        vertical-align: top;\n",
       "    }\n",
       "\n",
       "    .dataframe thead th {\n",
       "        text-align: right;\n",
       "    }\n",
       "</style>\n",
       "<table border=\"1\" class=\"dataframe\">\n",
       "  <thead>\n",
       "    <tr style=\"text-align: right;\">\n",
       "      <th></th>\n",
       "      <th>first</th>\n",
       "      <th>last</th>\n",
       "      <th>email</th>\n",
       "    </tr>\n",
       "  </thead>\n",
       "  <tbody>\n",
       "    <tr>\n",
       "      <th>0</th>\n",
       "      <td>Ram</td>\n",
       "      <td>Thapa</td>\n",
       "      <td>ramthaapa@gmail.com</td>\n",
       "    </tr>\n",
       "    <tr>\n",
       "      <th>1</th>\n",
       "      <td>Hari</td>\n",
       "      <td>Paudel</td>\n",
       "      <td>haripaudel@gmail.com</td>\n",
       "    </tr>\n",
       "    <tr>\n",
       "      <th>2</th>\n",
       "      <td>Shyam</td>\n",
       "      <td>Oli</td>\n",
       "      <td>shyamoli@gmail.com</td>\n",
       "    </tr>\n",
       "    <tr>\n",
       "      <th>3</th>\n",
       "      <td>Arav</td>\n",
       "      <td>Oli</td>\n",
       "      <td>a@gmail.com</td>\n",
       "    </tr>\n",
       "  </tbody>\n",
       "</table>\n",
       "</div>"
      ],
      "text/plain": [
       "   first    last                 email\n",
       "0    Ram   Thapa   ramthaapa@gmail.com\n",
       "1   Hari  Paudel  haripaudel@gmail.com\n",
       "2  Shyam     Oli    shyamoli@gmail.com\n",
       "3   Arav     Oli           a@gmail.com"
      ]
     },
     "execution_count": 12,
     "metadata": {},
     "output_type": "execute_result"
    }
   ],
   "source": [
    "df.sort_index()  # this sorts the index"
   ]
  },
  {
   "cell_type": "code",
   "execution_count": 13,
   "id": "5912c901",
   "metadata": {},
   "outputs": [
    {
     "data": {
      "text/plain": [
       "3       Oli\n",
       "2       Oli\n",
       "1    Paudel\n",
       "0     Thapa\n",
       "Name: last, dtype: object"
      ]
     },
     "execution_count": 13,
     "metadata": {},
     "output_type": "execute_result"
    }
   ],
   "source": [
    "df['last'].sort_values() \n",
    "# we can sort a single column like this also"
   ]
  },
  {
   "cell_type": "code",
   "execution_count": null,
   "id": "3e007e5f",
   "metadata": {},
   "outputs": [],
   "source": []
  }
 ],
 "metadata": {
  "kernelspec": {
   "display_name": "Python 3 (ipykernel)",
   "language": "python",
   "name": "python3"
  },
  "language_info": {
   "codemirror_mode": {
    "name": "ipython",
    "version": 3
   },
   "file_extension": ".py",
   "mimetype": "text/x-python",
   "name": "python",
   "nbconvert_exporter": "python",
   "pygments_lexer": "ipython3",
   "version": "3.10.6"
  }
 },
 "nbformat": 4,
 "nbformat_minor": 5
}
