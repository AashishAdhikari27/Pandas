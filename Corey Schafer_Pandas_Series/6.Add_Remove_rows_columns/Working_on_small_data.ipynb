{
 "cells": [
  {
   "cell_type": "code",
   "execution_count": 1,
   "id": "017bfc57",
   "metadata": {},
   "outputs": [],
   "source": [
    "import pandas as pd\n"
   ]
  },
  {
   "cell_type": "code",
   "execution_count": 2,
   "id": "b7a923a8",
   "metadata": {},
   "outputs": [],
   "source": [
    "people = {\n",
    "    \"first\" :[\"Ram\",\"Hari\",\"Shyam\"],\n",
    "    \"last\" : [\"Thapa\",\"Paudel\",\"Thapa\"],\n",
    "    \"email\" : [\"ramthaapa@gmail.com\",\"haripaudel@gmail.com\",\"shyamthapa@gmail.com\"] \n",
    "    \n",
    "\n",
    "} \n"
   ]
  },
  {
   "cell_type": "code",
   "execution_count": 3,
   "id": "71b53bc4",
   "metadata": {},
   "outputs": [],
   "source": [
    "df = pd.DataFrame(people)"
   ]
  },
  {
   "cell_type": "code",
   "execution_count": 4,
   "id": "b97971a5",
   "metadata": {},
   "outputs": [
    {
     "data": {
      "text/html": [
       "<div>\n",
       "<style scoped>\n",
       "    .dataframe tbody tr th:only-of-type {\n",
       "        vertical-align: middle;\n",
       "    }\n",
       "\n",
       "    .dataframe tbody tr th {\n",
       "        vertical-align: top;\n",
       "    }\n",
       "\n",
       "    .dataframe thead th {\n",
       "        text-align: right;\n",
       "    }\n",
       "</style>\n",
       "<table border=\"1\" class=\"dataframe\">\n",
       "  <thead>\n",
       "    <tr style=\"text-align: right;\">\n",
       "      <th></th>\n",
       "      <th>first</th>\n",
       "      <th>last</th>\n",
       "      <th>email</th>\n",
       "    </tr>\n",
       "  </thead>\n",
       "  <tbody>\n",
       "    <tr>\n",
       "      <th>0</th>\n",
       "      <td>Ram</td>\n",
       "      <td>Thapa</td>\n",
       "      <td>ramthaapa@gmail.com</td>\n",
       "    </tr>\n",
       "    <tr>\n",
       "      <th>1</th>\n",
       "      <td>Hari</td>\n",
       "      <td>Paudel</td>\n",
       "      <td>haripaudel@gmail.com</td>\n",
       "    </tr>\n",
       "    <tr>\n",
       "      <th>2</th>\n",
       "      <td>Shyam</td>\n",
       "      <td>Thapa</td>\n",
       "      <td>shyamthapa@gmail.com</td>\n",
       "    </tr>\n",
       "  </tbody>\n",
       "</table>\n",
       "</div>"
      ],
      "text/plain": [
       "   first    last                 email\n",
       "0    Ram   Thapa   ramthaapa@gmail.com\n",
       "1   Hari  Paudel  haripaudel@gmail.com\n",
       "2  Shyam   Thapa  shyamthapa@gmail.com"
      ]
     },
     "execution_count": 4,
     "metadata": {},
     "output_type": "execute_result"
    }
   ],
   "source": [
    "df"
   ]
  },
  {
   "cell_type": "code",
   "execution_count": 5,
   "id": "3bfeca21",
   "metadata": {},
   "outputs": [
    {
     "data": {
      "text/plain": [
       "0      Ram Thapa\n",
       "1    Hari Paudel\n",
       "2    Shyam Thapa\n",
       "dtype: object"
      ]
     },
     "execution_count": 5,
     "metadata": {},
     "output_type": "execute_result"
    }
   ],
   "source": [
    "df['first']+' '+df['last']  # combining first and last into a single column"
   ]
  },
  {
   "cell_type": "code",
   "execution_count": 6,
   "id": "3027e8ce",
   "metadata": {},
   "outputs": [],
   "source": [
    "df['full_name'] =df['first']+' '+df['last'] # this adds a new column full_name which has combined data of first and last"
   ]
  },
  {
   "cell_type": "code",
   "execution_count": 7,
   "id": "4dd135a0",
   "metadata": {},
   "outputs": [
    {
     "data": {
      "text/html": [
       "<div>\n",
       "<style scoped>\n",
       "    .dataframe tbody tr th:only-of-type {\n",
       "        vertical-align: middle;\n",
       "    }\n",
       "\n",
       "    .dataframe tbody tr th {\n",
       "        vertical-align: top;\n",
       "    }\n",
       "\n",
       "    .dataframe thead th {\n",
       "        text-align: right;\n",
       "    }\n",
       "</style>\n",
       "<table border=\"1\" class=\"dataframe\">\n",
       "  <thead>\n",
       "    <tr style=\"text-align: right;\">\n",
       "      <th></th>\n",
       "      <th>first</th>\n",
       "      <th>last</th>\n",
       "      <th>email</th>\n",
       "      <th>full_name</th>\n",
       "    </tr>\n",
       "  </thead>\n",
       "  <tbody>\n",
       "    <tr>\n",
       "      <th>0</th>\n",
       "      <td>Ram</td>\n",
       "      <td>Thapa</td>\n",
       "      <td>ramthaapa@gmail.com</td>\n",
       "      <td>Ram Thapa</td>\n",
       "    </tr>\n",
       "    <tr>\n",
       "      <th>1</th>\n",
       "      <td>Hari</td>\n",
       "      <td>Paudel</td>\n",
       "      <td>haripaudel@gmail.com</td>\n",
       "      <td>Hari Paudel</td>\n",
       "    </tr>\n",
       "    <tr>\n",
       "      <th>2</th>\n",
       "      <td>Shyam</td>\n",
       "      <td>Thapa</td>\n",
       "      <td>shyamthapa@gmail.com</td>\n",
       "      <td>Shyam Thapa</td>\n",
       "    </tr>\n",
       "  </tbody>\n",
       "</table>\n",
       "</div>"
      ],
      "text/plain": [
       "   first    last                 email    full_name\n",
       "0    Ram   Thapa   ramthaapa@gmail.com    Ram Thapa\n",
       "1   Hari  Paudel  haripaudel@gmail.com  Hari Paudel\n",
       "2  Shyam   Thapa  shyamthapa@gmail.com  Shyam Thapa"
      ]
     },
     "execution_count": 7,
     "metadata": {},
     "output_type": "execute_result"
    }
   ],
   "source": [
    "df"
   ]
  },
  {
   "cell_type": "code",
   "execution_count": 8,
   "id": "116987f4",
   "metadata": {},
   "outputs": [
    {
     "data": {
      "text/html": [
       "<div>\n",
       "<style scoped>\n",
       "    .dataframe tbody tr th:only-of-type {\n",
       "        vertical-align: middle;\n",
       "    }\n",
       "\n",
       "    .dataframe tbody tr th {\n",
       "        vertical-align: top;\n",
       "    }\n",
       "\n",
       "    .dataframe thead th {\n",
       "        text-align: right;\n",
       "    }\n",
       "</style>\n",
       "<table border=\"1\" class=\"dataframe\">\n",
       "  <thead>\n",
       "    <tr style=\"text-align: right;\">\n",
       "      <th></th>\n",
       "      <th>email</th>\n",
       "      <th>full_name</th>\n",
       "    </tr>\n",
       "  </thead>\n",
       "  <tbody>\n",
       "    <tr>\n",
       "      <th>0</th>\n",
       "      <td>ramthaapa@gmail.com</td>\n",
       "      <td>Ram Thapa</td>\n",
       "    </tr>\n",
       "    <tr>\n",
       "      <th>1</th>\n",
       "      <td>haripaudel@gmail.com</td>\n",
       "      <td>Hari Paudel</td>\n",
       "    </tr>\n",
       "    <tr>\n",
       "      <th>2</th>\n",
       "      <td>shyamthapa@gmail.com</td>\n",
       "      <td>Shyam Thapa</td>\n",
       "    </tr>\n",
       "  </tbody>\n",
       "</table>\n",
       "</div>"
      ],
      "text/plain": [
       "                  email    full_name\n",
       "0   ramthaapa@gmail.com    Ram Thapa\n",
       "1  haripaudel@gmail.com  Hari Paudel\n",
       "2  shyamthapa@gmail.com  Shyam Thapa"
      ]
     },
     "execution_count": 8,
     "metadata": {},
     "output_type": "execute_result"
    }
   ],
   "source": [
    "df.drop(columns=['first','last']) # this deletes/drops the columns having name first and last\n",
    "\n",
    "# this just gives the view that how the dataframe looks like,it doesn't actually apply those changes\n",
    "# and if we are happy with the changes then we can change our dataframe setting inplace argument True as follows"
   ]
  },
  {
   "cell_type": "code",
   "execution_count": 9,
   "id": "b7e4b4fa",
   "metadata": {},
   "outputs": [],
   "source": [
    "df.drop(columns=['first','last'],inplace=True)"
   ]
  },
  {
   "cell_type": "code",
   "execution_count": 10,
   "id": "2908b8db",
   "metadata": {},
   "outputs": [
    {
     "data": {
      "text/html": [
       "<div>\n",
       "<style scoped>\n",
       "    .dataframe tbody tr th:only-of-type {\n",
       "        vertical-align: middle;\n",
       "    }\n",
       "\n",
       "    .dataframe tbody tr th {\n",
       "        vertical-align: top;\n",
       "    }\n",
       "\n",
       "    .dataframe thead th {\n",
       "        text-align: right;\n",
       "    }\n",
       "</style>\n",
       "<table border=\"1\" class=\"dataframe\">\n",
       "  <thead>\n",
       "    <tr style=\"text-align: right;\">\n",
       "      <th></th>\n",
       "      <th>email</th>\n",
       "      <th>full_name</th>\n",
       "    </tr>\n",
       "  </thead>\n",
       "  <tbody>\n",
       "    <tr>\n",
       "      <th>0</th>\n",
       "      <td>ramthaapa@gmail.com</td>\n",
       "      <td>Ram Thapa</td>\n",
       "    </tr>\n",
       "    <tr>\n",
       "      <th>1</th>\n",
       "      <td>haripaudel@gmail.com</td>\n",
       "      <td>Hari Paudel</td>\n",
       "    </tr>\n",
       "    <tr>\n",
       "      <th>2</th>\n",
       "      <td>shyamthapa@gmail.com</td>\n",
       "      <td>Shyam Thapa</td>\n",
       "    </tr>\n",
       "  </tbody>\n",
       "</table>\n",
       "</div>"
      ],
      "text/plain": [
       "                  email    full_name\n",
       "0   ramthaapa@gmail.com    Ram Thapa\n",
       "1  haripaudel@gmail.com  Hari Paudel\n",
       "2  shyamthapa@gmail.com  Shyam Thapa"
      ]
     },
     "execution_count": 10,
     "metadata": {},
     "output_type": "execute_result"
    }
   ],
   "source": [
    "df"
   ]
  },
  {
   "cell_type": "code",
   "execution_count": 11,
   "id": "caf4de9a",
   "metadata": {},
   "outputs": [
    {
     "data": {
      "text/html": [
       "<div>\n",
       "<style scoped>\n",
       "    .dataframe tbody tr th:only-of-type {\n",
       "        vertical-align: middle;\n",
       "    }\n",
       "\n",
       "    .dataframe tbody tr th {\n",
       "        vertical-align: top;\n",
       "    }\n",
       "\n",
       "    .dataframe thead th {\n",
       "        text-align: right;\n",
       "    }\n",
       "</style>\n",
       "<table border=\"1\" class=\"dataframe\">\n",
       "  <thead>\n",
       "    <tr style=\"text-align: right;\">\n",
       "      <th></th>\n",
       "      <th>0</th>\n",
       "      <th>1</th>\n",
       "    </tr>\n",
       "  </thead>\n",
       "  <tbody>\n",
       "    <tr>\n",
       "      <th>0</th>\n",
       "      <td>Ram</td>\n",
       "      <td>Thapa</td>\n",
       "    </tr>\n",
       "    <tr>\n",
       "      <th>1</th>\n",
       "      <td>Hari</td>\n",
       "      <td>Paudel</td>\n",
       "    </tr>\n",
       "    <tr>\n",
       "      <th>2</th>\n",
       "      <td>Shyam</td>\n",
       "      <td>Thapa</td>\n",
       "    </tr>\n",
       "  </tbody>\n",
       "</table>\n",
       "</div>"
      ],
      "text/plain": [
       "       0       1\n",
       "0    Ram   Thapa\n",
       "1   Hari  Paudel\n",
       "2  Shyam   Thapa"
      ]
     },
     "execution_count": 11,
     "metadata": {},
     "output_type": "execute_result"
    }
   ],
   "source": [
    "# splitting the full_name column as before\n",
    "\n",
    "df['full_name'].str.split(' ',expand = True)"
   ]
  },
  {
   "cell_type": "code",
   "execution_count": 12,
   "id": "8acfefd2",
   "metadata": {},
   "outputs": [],
   "source": [
    "df[['first','last']] =df['full_name'].str.split(' ',expand = True) # this adds first and last column in the dataframe"
   ]
  },
  {
   "cell_type": "code",
   "execution_count": 13,
   "id": "4e75d678",
   "metadata": {},
   "outputs": [
    {
     "data": {
      "text/html": [
       "<div>\n",
       "<style scoped>\n",
       "    .dataframe tbody tr th:only-of-type {\n",
       "        vertical-align: middle;\n",
       "    }\n",
       "\n",
       "    .dataframe tbody tr th {\n",
       "        vertical-align: top;\n",
       "    }\n",
       "\n",
       "    .dataframe thead th {\n",
       "        text-align: right;\n",
       "    }\n",
       "</style>\n",
       "<table border=\"1\" class=\"dataframe\">\n",
       "  <thead>\n",
       "    <tr style=\"text-align: right;\">\n",
       "      <th></th>\n",
       "      <th>email</th>\n",
       "      <th>full_name</th>\n",
       "      <th>first</th>\n",
       "      <th>last</th>\n",
       "    </tr>\n",
       "  </thead>\n",
       "  <tbody>\n",
       "    <tr>\n",
       "      <th>0</th>\n",
       "      <td>ramthaapa@gmail.com</td>\n",
       "      <td>Ram Thapa</td>\n",
       "      <td>Ram</td>\n",
       "      <td>Thapa</td>\n",
       "    </tr>\n",
       "    <tr>\n",
       "      <th>1</th>\n",
       "      <td>haripaudel@gmail.com</td>\n",
       "      <td>Hari Paudel</td>\n",
       "      <td>Hari</td>\n",
       "      <td>Paudel</td>\n",
       "    </tr>\n",
       "    <tr>\n",
       "      <th>2</th>\n",
       "      <td>shyamthapa@gmail.com</td>\n",
       "      <td>Shyam Thapa</td>\n",
       "      <td>Shyam</td>\n",
       "      <td>Thapa</td>\n",
       "    </tr>\n",
       "  </tbody>\n",
       "</table>\n",
       "</div>"
      ],
      "text/plain": [
       "                  email    full_name  first    last\n",
       "0   ramthaapa@gmail.com    Ram Thapa    Ram   Thapa\n",
       "1  haripaudel@gmail.com  Hari Paudel   Hari  Paudel\n",
       "2  shyamthapa@gmail.com  Shyam Thapa  Shyam   Thapa"
      ]
     },
     "execution_count": 13,
     "metadata": {},
     "output_type": "execute_result"
    }
   ],
   "source": [
    "df"
   ]
  },
  {
   "cell_type": "code",
   "execution_count": 14,
   "id": "9515e58e",
   "metadata": {},
   "outputs": [],
   "source": [
    "# adding a single row \n",
    "# we can do this using .append method\n",
    "#df.append({'first':'Aashish'})  \n",
    "\n",
    "# this gives TypeError because Can only append a dict if ignore_index=True"
   ]
  },
  {
   "cell_type": "code",
   "execution_count": 15,
   "id": "62c1db02",
   "metadata": {},
   "outputs": [
    {
     "name": "stderr",
     "output_type": "stream",
     "text": [
      "/tmp/ipykernel_5793/1670232835.py:1: FutureWarning: The frame.append method is deprecated and will be removed from pandas in a future version. Use pandas.concat instead.\n",
      "  df.append({'first':'Aashish'},ignore_index=True)\n"
     ]
    },
    {
     "data": {
      "text/html": [
       "<div>\n",
       "<style scoped>\n",
       "    .dataframe tbody tr th:only-of-type {\n",
       "        vertical-align: middle;\n",
       "    }\n",
       "\n",
       "    .dataframe tbody tr th {\n",
       "        vertical-align: top;\n",
       "    }\n",
       "\n",
       "    .dataframe thead th {\n",
       "        text-align: right;\n",
       "    }\n",
       "</style>\n",
       "<table border=\"1\" class=\"dataframe\">\n",
       "  <thead>\n",
       "    <tr style=\"text-align: right;\">\n",
       "      <th></th>\n",
       "      <th>email</th>\n",
       "      <th>full_name</th>\n",
       "      <th>first</th>\n",
       "      <th>last</th>\n",
       "    </tr>\n",
       "  </thead>\n",
       "  <tbody>\n",
       "    <tr>\n",
       "      <th>0</th>\n",
       "      <td>ramthaapa@gmail.com</td>\n",
       "      <td>Ram Thapa</td>\n",
       "      <td>Ram</td>\n",
       "      <td>Thapa</td>\n",
       "    </tr>\n",
       "    <tr>\n",
       "      <th>1</th>\n",
       "      <td>haripaudel@gmail.com</td>\n",
       "      <td>Hari Paudel</td>\n",
       "      <td>Hari</td>\n",
       "      <td>Paudel</td>\n",
       "    </tr>\n",
       "    <tr>\n",
       "      <th>2</th>\n",
       "      <td>shyamthapa@gmail.com</td>\n",
       "      <td>Shyam Thapa</td>\n",
       "      <td>Shyam</td>\n",
       "      <td>Thapa</td>\n",
       "    </tr>\n",
       "    <tr>\n",
       "      <th>3</th>\n",
       "      <td>NaN</td>\n",
       "      <td>NaN</td>\n",
       "      <td>Aashish</td>\n",
       "      <td>NaN</td>\n",
       "    </tr>\n",
       "  </tbody>\n",
       "</table>\n",
       "</div>"
      ],
      "text/plain": [
       "                  email    full_name    first    last\n",
       "0   ramthaapa@gmail.com    Ram Thapa      Ram   Thapa\n",
       "1  haripaudel@gmail.com  Hari Paudel     Hari  Paudel\n",
       "2  shyamthapa@gmail.com  Shyam Thapa    Shyam   Thapa\n",
       "3                   NaN          NaN  Aashish     NaN"
      ]
     },
     "execution_count": 15,
     "metadata": {},
     "output_type": "execute_result"
    }
   ],
   "source": [
    "df.append({'first':'Aashish'},ignore_index=True)  \n",
    "# this is giving a FutureWarning that: The frame.append method is deprecated and will be removed from pandas in a future version. Use pandas.concat instead.\n"
   ]
  },
  {
   "cell_type": "code",
   "execution_count": 16,
   "id": "d205b571",
   "metadata": {},
   "outputs": [],
   "source": [
    "# creating another dictionary \n",
    "\n",
    "people = {\n",
    "    \"first\" :[\"Rahul\",\"Sunil\"],\n",
    "    \"last\" : [\"Thapa\",\"Oli\"],\n",
    "    \"email\" : [\"rahulthapa@gmail.com\",\"suniloli@gmail.com\"] \n",
    "} \n",
    "\n",
    "# creating another dataframe from this dictionary\n",
    "df2=pd.DataFrame(people) "
   ]
  },
  {
   "cell_type": "code",
   "execution_count": 17,
   "id": "ebc7d620",
   "metadata": {},
   "outputs": [
    {
     "data": {
      "text/html": [
       "<div>\n",
       "<style scoped>\n",
       "    .dataframe tbody tr th:only-of-type {\n",
       "        vertical-align: middle;\n",
       "    }\n",
       "\n",
       "    .dataframe tbody tr th {\n",
       "        vertical-align: top;\n",
       "    }\n",
       "\n",
       "    .dataframe thead th {\n",
       "        text-align: right;\n",
       "    }\n",
       "</style>\n",
       "<table border=\"1\" class=\"dataframe\">\n",
       "  <thead>\n",
       "    <tr style=\"text-align: right;\">\n",
       "      <th></th>\n",
       "      <th>first</th>\n",
       "      <th>last</th>\n",
       "      <th>email</th>\n",
       "    </tr>\n",
       "  </thead>\n",
       "  <tbody>\n",
       "    <tr>\n",
       "      <th>0</th>\n",
       "      <td>Rahul</td>\n",
       "      <td>Thapa</td>\n",
       "      <td>rahulthapa@gmail.com</td>\n",
       "    </tr>\n",
       "    <tr>\n",
       "      <th>1</th>\n",
       "      <td>Sunil</td>\n",
       "      <td>Oli</td>\n",
       "      <td>suniloli@gmail.com</td>\n",
       "    </tr>\n",
       "  </tbody>\n",
       "</table>\n",
       "</div>"
      ],
      "text/plain": [
       "   first   last                 email\n",
       "0  Rahul  Thapa  rahulthapa@gmail.com\n",
       "1  Sunil    Oli    suniloli@gmail.com"
      ]
     },
     "execution_count": 17,
     "metadata": {},
     "output_type": "execute_result"
    }
   ],
   "source": [
    "df2"
   ]
  },
  {
   "cell_type": "code",
   "execution_count": 18,
   "id": "7dcb0252",
   "metadata": {},
   "outputs": [
    {
     "name": "stderr",
     "output_type": "stream",
     "text": [
      "/tmp/ipykernel_5793/2094904254.py:1: FutureWarning: The frame.append method is deprecated and will be removed from pandas in a future version. Use pandas.concat instead.\n",
      "  df.append(df2)\n"
     ]
    },
    {
     "data": {
      "text/html": [
       "<div>\n",
       "<style scoped>\n",
       "    .dataframe tbody tr th:only-of-type {\n",
       "        vertical-align: middle;\n",
       "    }\n",
       "\n",
       "    .dataframe tbody tr th {\n",
       "        vertical-align: top;\n",
       "    }\n",
       "\n",
       "    .dataframe thead th {\n",
       "        text-align: right;\n",
       "    }\n",
       "</style>\n",
       "<table border=\"1\" class=\"dataframe\">\n",
       "  <thead>\n",
       "    <tr style=\"text-align: right;\">\n",
       "      <th></th>\n",
       "      <th>email</th>\n",
       "      <th>full_name</th>\n",
       "      <th>first</th>\n",
       "      <th>last</th>\n",
       "    </tr>\n",
       "  </thead>\n",
       "  <tbody>\n",
       "    <tr>\n",
       "      <th>0</th>\n",
       "      <td>ramthaapa@gmail.com</td>\n",
       "      <td>Ram Thapa</td>\n",
       "      <td>Ram</td>\n",
       "      <td>Thapa</td>\n",
       "    </tr>\n",
       "    <tr>\n",
       "      <th>1</th>\n",
       "      <td>haripaudel@gmail.com</td>\n",
       "      <td>Hari Paudel</td>\n",
       "      <td>Hari</td>\n",
       "      <td>Paudel</td>\n",
       "    </tr>\n",
       "    <tr>\n",
       "      <th>2</th>\n",
       "      <td>shyamthapa@gmail.com</td>\n",
       "      <td>Shyam Thapa</td>\n",
       "      <td>Shyam</td>\n",
       "      <td>Thapa</td>\n",
       "    </tr>\n",
       "    <tr>\n",
       "      <th>0</th>\n",
       "      <td>rahulthapa@gmail.com</td>\n",
       "      <td>NaN</td>\n",
       "      <td>Rahul</td>\n",
       "      <td>Thapa</td>\n",
       "    </tr>\n",
       "    <tr>\n",
       "      <th>1</th>\n",
       "      <td>suniloli@gmail.com</td>\n",
       "      <td>NaN</td>\n",
       "      <td>Sunil</td>\n",
       "      <td>Oli</td>\n",
       "    </tr>\n",
       "  </tbody>\n",
       "</table>\n",
       "</div>"
      ],
      "text/plain": [
       "                  email    full_name  first    last\n",
       "0   ramthaapa@gmail.com    Ram Thapa    Ram   Thapa\n",
       "1  haripaudel@gmail.com  Hari Paudel   Hari  Paudel\n",
       "2  shyamthapa@gmail.com  Shyam Thapa  Shyam   Thapa\n",
       "0  rahulthapa@gmail.com          NaN  Rahul   Thapa\n",
       "1    suniloli@gmail.com          NaN  Sunil     Oli"
      ]
     },
     "execution_count": 18,
     "metadata": {},
     "output_type": "execute_result"
    }
   ],
   "source": [
    "df.append(df2)"
   ]
  },
  {
   "cell_type": "code",
   "execution_count": 19,
   "id": "b655bc71",
   "metadata": {},
   "outputs": [
    {
     "data": {
      "text/html": [
       "<div>\n",
       "<style scoped>\n",
       "    .dataframe tbody tr th:only-of-type {\n",
       "        vertical-align: middle;\n",
       "    }\n",
       "\n",
       "    .dataframe tbody tr th {\n",
       "        vertical-align: top;\n",
       "    }\n",
       "\n",
       "    .dataframe thead th {\n",
       "        text-align: right;\n",
       "    }\n",
       "</style>\n",
       "<table border=\"1\" class=\"dataframe\">\n",
       "  <thead>\n",
       "    <tr style=\"text-align: right;\">\n",
       "      <th></th>\n",
       "      <th>email</th>\n",
       "      <th>full_name</th>\n",
       "      <th>first</th>\n",
       "      <th>last</th>\n",
       "    </tr>\n",
       "  </thead>\n",
       "  <tbody>\n",
       "    <tr>\n",
       "      <th>0</th>\n",
       "      <td>ramthaapa@gmail.com</td>\n",
       "      <td>Ram Thapa</td>\n",
       "      <td>Ram</td>\n",
       "      <td>Thapa</td>\n",
       "    </tr>\n",
       "    <tr>\n",
       "      <th>1</th>\n",
       "      <td>haripaudel@gmail.com</td>\n",
       "      <td>Hari Paudel</td>\n",
       "      <td>Hari</td>\n",
       "      <td>Paudel</td>\n",
       "    </tr>\n",
       "    <tr>\n",
       "      <th>2</th>\n",
       "      <td>shyamthapa@gmail.com</td>\n",
       "      <td>Shyam Thapa</td>\n",
       "      <td>Shyam</td>\n",
       "      <td>Thapa</td>\n",
       "    </tr>\n",
       "    <tr>\n",
       "      <th>0</th>\n",
       "      <td>rahulthapa@gmail.com</td>\n",
       "      <td>NaN</td>\n",
       "      <td>Rahul</td>\n",
       "      <td>Thapa</td>\n",
       "    </tr>\n",
       "    <tr>\n",
       "      <th>1</th>\n",
       "      <td>suniloli@gmail.com</td>\n",
       "      <td>NaN</td>\n",
       "      <td>Sunil</td>\n",
       "      <td>Oli</td>\n",
       "    </tr>\n",
       "  </tbody>\n",
       "</table>\n",
       "</div>"
      ],
      "text/plain": [
       "                  email    full_name  first    last\n",
       "0   ramthaapa@gmail.com    Ram Thapa    Ram   Thapa\n",
       "1  haripaudel@gmail.com  Hari Paudel   Hari  Paudel\n",
       "2  shyamthapa@gmail.com  Shyam Thapa  Shyam   Thapa\n",
       "0  rahulthapa@gmail.com          NaN  Rahul   Thapa\n",
       "1    suniloli@gmail.com          NaN  Sunil     Oli"
      ]
     },
     "execution_count": 19,
     "metadata": {},
     "output_type": "execute_result"
    }
   ],
   "source": [
    "# as .append method is going to deleted from pandas in future ,so using .concat method\n",
    "\n",
    "pd.concat([df,df2])\n",
    "\n",
    "# this just gives an overview that afer doing this,how our data looks like ,so to make these changes permanent we do it as\n",
    "#df =pd.concat([df,df2])"
   ]
  },
  {
   "cell_type": "code",
   "execution_count": 20,
   "id": "168f2875",
   "metadata": {},
   "outputs": [],
   "source": [
    "df =pd.concat([df,df2],ignore_index = True)\n",
    "\n",
    "# ignore_index = True so that new index values are displayed in the concatenated DataFrame."
   ]
  },
  {
   "cell_type": "code",
   "execution_count": 21,
   "id": "268e6b26",
   "metadata": {},
   "outputs": [
    {
     "data": {
      "text/html": [
       "<div>\n",
       "<style scoped>\n",
       "    .dataframe tbody tr th:only-of-type {\n",
       "        vertical-align: middle;\n",
       "    }\n",
       "\n",
       "    .dataframe tbody tr th {\n",
       "        vertical-align: top;\n",
       "    }\n",
       "\n",
       "    .dataframe thead th {\n",
       "        text-align: right;\n",
       "    }\n",
       "</style>\n",
       "<table border=\"1\" class=\"dataframe\">\n",
       "  <thead>\n",
       "    <tr style=\"text-align: right;\">\n",
       "      <th></th>\n",
       "      <th>email</th>\n",
       "      <th>full_name</th>\n",
       "      <th>first</th>\n",
       "      <th>last</th>\n",
       "    </tr>\n",
       "  </thead>\n",
       "  <tbody>\n",
       "    <tr>\n",
       "      <th>0</th>\n",
       "      <td>ramthaapa@gmail.com</td>\n",
       "      <td>Ram Thapa</td>\n",
       "      <td>Ram</td>\n",
       "      <td>Thapa</td>\n",
       "    </tr>\n",
       "    <tr>\n",
       "      <th>1</th>\n",
       "      <td>haripaudel@gmail.com</td>\n",
       "      <td>Hari Paudel</td>\n",
       "      <td>Hari</td>\n",
       "      <td>Paudel</td>\n",
       "    </tr>\n",
       "    <tr>\n",
       "      <th>2</th>\n",
       "      <td>shyamthapa@gmail.com</td>\n",
       "      <td>Shyam Thapa</td>\n",
       "      <td>Shyam</td>\n",
       "      <td>Thapa</td>\n",
       "    </tr>\n",
       "    <tr>\n",
       "      <th>3</th>\n",
       "      <td>rahulthapa@gmail.com</td>\n",
       "      <td>NaN</td>\n",
       "      <td>Rahul</td>\n",
       "      <td>Thapa</td>\n",
       "    </tr>\n",
       "    <tr>\n",
       "      <th>4</th>\n",
       "      <td>suniloli@gmail.com</td>\n",
       "      <td>NaN</td>\n",
       "      <td>Sunil</td>\n",
       "      <td>Oli</td>\n",
       "    </tr>\n",
       "  </tbody>\n",
       "</table>\n",
       "</div>"
      ],
      "text/plain": [
       "                  email    full_name  first    last\n",
       "0   ramthaapa@gmail.com    Ram Thapa    Ram   Thapa\n",
       "1  haripaudel@gmail.com  Hari Paudel   Hari  Paudel\n",
       "2  shyamthapa@gmail.com  Shyam Thapa  Shyam   Thapa\n",
       "3  rahulthapa@gmail.com          NaN  Rahul   Thapa\n",
       "4    suniloli@gmail.com          NaN  Sunil     Oli"
      ]
     },
     "execution_count": 21,
     "metadata": {},
     "output_type": "execute_result"
    }
   ],
   "source": [
    "df"
   ]
  },
  {
   "cell_type": "code",
   "execution_count": 22,
   "id": "b0276ff5",
   "metadata": {},
   "outputs": [
    {
     "data": {
      "text/html": [
       "<div>\n",
       "<style scoped>\n",
       "    .dataframe tbody tr th:only-of-type {\n",
       "        vertical-align: middle;\n",
       "    }\n",
       "\n",
       "    .dataframe tbody tr th {\n",
       "        vertical-align: top;\n",
       "    }\n",
       "\n",
       "    .dataframe thead th {\n",
       "        text-align: right;\n",
       "    }\n",
       "</style>\n",
       "<table border=\"1\" class=\"dataframe\">\n",
       "  <thead>\n",
       "    <tr style=\"text-align: right;\">\n",
       "      <th></th>\n",
       "      <th>email</th>\n",
       "      <th>full_name</th>\n",
       "      <th>first</th>\n",
       "      <th>last</th>\n",
       "    </tr>\n",
       "  </thead>\n",
       "  <tbody>\n",
       "    <tr>\n",
       "      <th>0</th>\n",
       "      <td>ramthaapa@gmail.com</td>\n",
       "      <td>Ram Thapa</td>\n",
       "      <td>Ram</td>\n",
       "      <td>Thapa</td>\n",
       "    </tr>\n",
       "    <tr>\n",
       "      <th>1</th>\n",
       "      <td>haripaudel@gmail.com</td>\n",
       "      <td>Hari Paudel</td>\n",
       "      <td>Hari</td>\n",
       "      <td>Paudel</td>\n",
       "    </tr>\n",
       "    <tr>\n",
       "      <th>2</th>\n",
       "      <td>shyamthapa@gmail.com</td>\n",
       "      <td>Shyam Thapa</td>\n",
       "      <td>Shyam</td>\n",
       "      <td>Thapa</td>\n",
       "    </tr>\n",
       "    <tr>\n",
       "      <th>3</th>\n",
       "      <td>rahulthapa@gmail.com</td>\n",
       "      <td>NaN</td>\n",
       "      <td>Rahul</td>\n",
       "      <td>Thapa</td>\n",
       "    </tr>\n",
       "  </tbody>\n",
       "</table>\n",
       "</div>"
      ],
      "text/plain": [
       "                  email    full_name  first    last\n",
       "0   ramthaapa@gmail.com    Ram Thapa    Ram   Thapa\n",
       "1  haripaudel@gmail.com  Hari Paudel   Hari  Paudel\n",
       "2  shyamthapa@gmail.com  Shyam Thapa  Shyam   Thapa\n",
       "3  rahulthapa@gmail.com          NaN  Rahul   Thapa"
      ]
     },
     "execution_count": 22,
     "metadata": {},
     "output_type": "execute_result"
    }
   ],
   "source": [
    "# dropping or removing a single row\n",
    "\n",
    "df.drop(index=4)"
   ]
  },
  {
   "cell_type": "code",
   "execution_count": 23,
   "id": "5322662e",
   "metadata": {},
   "outputs": [
    {
     "data": {
      "text/html": [
       "<div>\n",
       "<style scoped>\n",
       "    .dataframe tbody tr th:only-of-type {\n",
       "        vertical-align: middle;\n",
       "    }\n",
       "\n",
       "    .dataframe tbody tr th {\n",
       "        vertical-align: top;\n",
       "    }\n",
       "\n",
       "    .dataframe thead th {\n",
       "        text-align: right;\n",
       "    }\n",
       "</style>\n",
       "<table border=\"1\" class=\"dataframe\">\n",
       "  <thead>\n",
       "    <tr style=\"text-align: right;\">\n",
       "      <th></th>\n",
       "      <th>email</th>\n",
       "      <th>full_name</th>\n",
       "      <th>first</th>\n",
       "      <th>last</th>\n",
       "    </tr>\n",
       "  </thead>\n",
       "  <tbody>\n",
       "    <tr>\n",
       "      <th>0</th>\n",
       "      <td>ramthaapa@gmail.com</td>\n",
       "      <td>Ram Thapa</td>\n",
       "      <td>Ram</td>\n",
       "      <td>Thapa</td>\n",
       "    </tr>\n",
       "    <tr>\n",
       "      <th>1</th>\n",
       "      <td>haripaudel@gmail.com</td>\n",
       "      <td>Hari Paudel</td>\n",
       "      <td>Hari</td>\n",
       "      <td>Paudel</td>\n",
       "    </tr>\n",
       "    <tr>\n",
       "      <th>2</th>\n",
       "      <td>shyamthapa@gmail.com</td>\n",
       "      <td>Shyam Thapa</td>\n",
       "      <td>Shyam</td>\n",
       "      <td>Thapa</td>\n",
       "    </tr>\n",
       "    <tr>\n",
       "      <th>3</th>\n",
       "      <td>rahulthapa@gmail.com</td>\n",
       "      <td>NaN</td>\n",
       "      <td>Rahul</td>\n",
       "      <td>Thapa</td>\n",
       "    </tr>\n",
       "    <tr>\n",
       "      <th>4</th>\n",
       "      <td>suniloli@gmail.com</td>\n",
       "      <td>NaN</td>\n",
       "      <td>Sunil</td>\n",
       "      <td>Oli</td>\n",
       "    </tr>\n",
       "  </tbody>\n",
       "</table>\n",
       "</div>"
      ],
      "text/plain": [
       "                  email    full_name  first    last\n",
       "0   ramthaapa@gmail.com    Ram Thapa    Ram   Thapa\n",
       "1  haripaudel@gmail.com  Hari Paudel   Hari  Paudel\n",
       "2  shyamthapa@gmail.com  Shyam Thapa  Shyam   Thapa\n",
       "3  rahulthapa@gmail.com          NaN  Rahul   Thapa\n",
       "4    suniloli@gmail.com          NaN  Sunil     Oli"
      ]
     },
     "execution_count": 23,
     "metadata": {},
     "output_type": "execute_result"
    }
   ],
   "source": [
    "df"
   ]
  },
  {
   "cell_type": "code",
   "execution_count": 24,
   "id": "30c760b6",
   "metadata": {},
   "outputs": [
    {
     "data": {
      "text/html": [
       "<div>\n",
       "<style scoped>\n",
       "    .dataframe tbody tr th:only-of-type {\n",
       "        vertical-align: middle;\n",
       "    }\n",
       "\n",
       "    .dataframe tbody tr th {\n",
       "        vertical-align: top;\n",
       "    }\n",
       "\n",
       "    .dataframe thead th {\n",
       "        text-align: right;\n",
       "    }\n",
       "</style>\n",
       "<table border=\"1\" class=\"dataframe\">\n",
       "  <thead>\n",
       "    <tr style=\"text-align: right;\">\n",
       "      <th></th>\n",
       "      <th>email</th>\n",
       "      <th>full_name</th>\n",
       "      <th>first</th>\n",
       "      <th>last</th>\n",
       "    </tr>\n",
       "  </thead>\n",
       "  <tbody>\n",
       "    <tr>\n",
       "      <th>1</th>\n",
       "      <td>haripaudel@gmail.com</td>\n",
       "      <td>Hari Paudel</td>\n",
       "      <td>Hari</td>\n",
       "      <td>Paudel</td>\n",
       "    </tr>\n",
       "    <tr>\n",
       "      <th>4</th>\n",
       "      <td>suniloli@gmail.com</td>\n",
       "      <td>NaN</td>\n",
       "      <td>Sunil</td>\n",
       "      <td>Oli</td>\n",
       "    </tr>\n",
       "  </tbody>\n",
       "</table>\n",
       "</div>"
      ],
      "text/plain": [
       "                  email    full_name  first    last\n",
       "1  haripaudel@gmail.com  Hari Paudel   Hari  Paudel\n",
       "4    suniloli@gmail.com          NaN  Sunil     Oli"
      ]
     },
     "execution_count": 24,
     "metadata": {},
     "output_type": "execute_result"
    }
   ],
   "source": [
    "# dropping multiple rows \n",
    "# df.drop(index=df[df['last']=='Thapa'].index) #dropping multiple rows that has last name 'Thapa'\n",
    "\n",
    "# we can do this using filter method as\n",
    "filt = df['last']=='Thapa'\n",
    "df.drop(index=df[filt].index)\n"
   ]
  },
  {
   "cell_type": "code",
   "execution_count": null,
   "id": "c1da9293",
   "metadata": {},
   "outputs": [],
   "source": []
  }
 ],
 "metadata": {
  "kernelspec": {
   "display_name": "Python 3 (ipykernel)",
   "language": "python",
   "name": "python3"
  },
  "language_info": {
   "codemirror_mode": {
    "name": "ipython",
    "version": 3
   },
   "file_extension": ".py",
   "mimetype": "text/x-python",
   "name": "python",
   "nbconvert_exporter": "python",
   "pygments_lexer": "ipython3",
   "version": "3.10.6"
  }
 },
 "nbformat": 4,
 "nbformat_minor": 5
}
