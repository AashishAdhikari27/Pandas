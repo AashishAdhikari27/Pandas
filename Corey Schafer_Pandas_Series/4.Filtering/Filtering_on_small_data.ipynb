{
 "cells": [
  {
   "cell_type": "code",
   "execution_count": 1,
   "id": "a3cebba8",
   "metadata": {},
   "outputs": [],
   "source": [
    "import pandas as pd"
   ]
  },
  {
   "cell_type": "code",
   "execution_count": 25,
   "id": "cd0c1dc9",
   "metadata": {},
   "outputs": [],
   "source": [
    "\n",
    "people = {\n",
    "    \"first\" :[\"Ram\",\"Hari\",\"Shyam\"],\n",
    "    \"last\" : [\"Thapa\",\"Paudel\",\"Thapa\"],\n",
    "    \"email\" : [\"ramthaapa@gmail.com\",\"haripaudel@gmail.com\",\"shyamthapa@gmail.com\"]\n",
    "} \n"
   ]
  },
  {
   "cell_type": "code",
   "execution_count": 26,
   "id": "1c825a37",
   "metadata": {},
   "outputs": [],
   "source": [
    "df = pd.DataFrame(people)"
   ]
  },
  {
   "cell_type": "code",
   "execution_count": 27,
   "id": "16540ae3",
   "metadata": {},
   "outputs": [
    {
     "data": {
      "text/html": [
       "<div>\n",
       "<style scoped>\n",
       "    .dataframe tbody tr th:only-of-type {\n",
       "        vertical-align: middle;\n",
       "    }\n",
       "\n",
       "    .dataframe tbody tr th {\n",
       "        vertical-align: top;\n",
       "    }\n",
       "\n",
       "    .dataframe thead th {\n",
       "        text-align: right;\n",
       "    }\n",
       "</style>\n",
       "<table border=\"1\" class=\"dataframe\">\n",
       "  <thead>\n",
       "    <tr style=\"text-align: right;\">\n",
       "      <th></th>\n",
       "      <th>first</th>\n",
       "      <th>last</th>\n",
       "      <th>email</th>\n",
       "    </tr>\n",
       "  </thead>\n",
       "  <tbody>\n",
       "    <tr>\n",
       "      <th>0</th>\n",
       "      <td>Ram</td>\n",
       "      <td>Thapa</td>\n",
       "      <td>ramthaapa@gmail.com</td>\n",
       "    </tr>\n",
       "    <tr>\n",
       "      <th>1</th>\n",
       "      <td>Hari</td>\n",
       "      <td>Paudel</td>\n",
       "      <td>haripaudel@gmail.com</td>\n",
       "    </tr>\n",
       "    <tr>\n",
       "      <th>2</th>\n",
       "      <td>Shyam</td>\n",
       "      <td>Thapa</td>\n",
       "      <td>shyamthapa@gmail.com</td>\n",
       "    </tr>\n",
       "  </tbody>\n",
       "</table>\n",
       "</div>"
      ],
      "text/plain": [
       "   first    last                 email\n",
       "0    Ram   Thapa   ramthaapa@gmail.com\n",
       "1   Hari  Paudel  haripaudel@gmail.com\n",
       "2  Shyam   Thapa  shyamthapa@gmail.com"
      ]
     },
     "execution_count": 27,
     "metadata": {},
     "output_type": "execute_result"
    }
   ],
   "source": [
    "df"
   ]
  },
  {
   "cell_type": "code",
   "execution_count": 28,
   "id": "71a73e3a",
   "metadata": {},
   "outputs": [
    {
     "data": {
      "text/plain": [
       "0     True\n",
       "1    False\n",
       "2     True\n",
       "Name: last, dtype: bool"
      ]
     },
     "execution_count": 28,
     "metadata": {},
     "output_type": "execute_result"
    }
   ],
   "source": [
    "df['last'] == 'Thapa' # returns a series of bool i.e true means it meets the criteria and that of false means it doesn't "
   ]
  },
  {
   "cell_type": "code",
   "execution_count": 29,
   "id": "8ed9a701",
   "metadata": {},
   "outputs": [],
   "source": [
    "# now using filter\n",
    "\n",
    "filt = (df['last'] == 'Thapa')"
   ]
  },
  {
   "cell_type": "code",
   "execution_count": 30,
   "id": "66ddd907",
   "metadata": {},
   "outputs": [
    {
     "data": {
      "text/html": [
       "<div>\n",
       "<style scoped>\n",
       "    .dataframe tbody tr th:only-of-type {\n",
       "        vertical-align: middle;\n",
       "    }\n",
       "\n",
       "    .dataframe tbody tr th {\n",
       "        vertical-align: top;\n",
       "    }\n",
       "\n",
       "    .dataframe thead th {\n",
       "        text-align: right;\n",
       "    }\n",
       "</style>\n",
       "<table border=\"1\" class=\"dataframe\">\n",
       "  <thead>\n",
       "    <tr style=\"text-align: right;\">\n",
       "      <th></th>\n",
       "      <th>first</th>\n",
       "      <th>last</th>\n",
       "      <th>email</th>\n",
       "    </tr>\n",
       "  </thead>\n",
       "  <tbody>\n",
       "    <tr>\n",
       "      <th>0</th>\n",
       "      <td>Ram</td>\n",
       "      <td>Thapa</td>\n",
       "      <td>ramthaapa@gmail.com</td>\n",
       "    </tr>\n",
       "    <tr>\n",
       "      <th>2</th>\n",
       "      <td>Shyam</td>\n",
       "      <td>Thapa</td>\n",
       "      <td>shyamthapa@gmail.com</td>\n",
       "    </tr>\n",
       "  </tbody>\n",
       "</table>\n",
       "</div>"
      ],
      "text/plain": [
       "   first   last                 email\n",
       "0    Ram  Thapa   ramthaapa@gmail.com\n",
       "2  Shyam  Thapa  shyamthapa@gmail.com"
      ]
     },
     "execution_count": 30,
     "metadata": {},
     "output_type": "execute_result"
    }
   ],
   "source": [
    "df[filt] # df[f['last'] == 'Thapa'] also  works same "
   ]
  },
  {
   "cell_type": "code",
   "execution_count": 31,
   "id": "8c89099b",
   "metadata": {},
   "outputs": [
    {
     "data": {
      "text/html": [
       "<div>\n",
       "<style scoped>\n",
       "    .dataframe tbody tr th:only-of-type {\n",
       "        vertical-align: middle;\n",
       "    }\n",
       "\n",
       "    .dataframe tbody tr th {\n",
       "        vertical-align: top;\n",
       "    }\n",
       "\n",
       "    .dataframe thead th {\n",
       "        text-align: right;\n",
       "    }\n",
       "</style>\n",
       "<table border=\"1\" class=\"dataframe\">\n",
       "  <thead>\n",
       "    <tr style=\"text-align: right;\">\n",
       "      <th></th>\n",
       "      <th>first</th>\n",
       "      <th>last</th>\n",
       "      <th>email</th>\n",
       "    </tr>\n",
       "  </thead>\n",
       "  <tbody>\n",
       "    <tr>\n",
       "      <th>0</th>\n",
       "      <td>Ram</td>\n",
       "      <td>Thapa</td>\n",
       "      <td>ramthaapa@gmail.com</td>\n",
       "    </tr>\n",
       "    <tr>\n",
       "      <th>2</th>\n",
       "      <td>Shyam</td>\n",
       "      <td>Thapa</td>\n",
       "      <td>shyamthapa@gmail.com</td>\n",
       "    </tr>\n",
       "  </tbody>\n",
       "</table>\n",
       "</div>"
      ],
      "text/plain": [
       "   first   last                 email\n",
       "0    Ram  Thapa   ramthaapa@gmail.com\n",
       "2  Shyam  Thapa  shyamthapa@gmail.com"
      ]
     },
     "execution_count": 31,
     "metadata": {},
     "output_type": "execute_result"
    }
   ],
   "source": [
    "df.loc[filt]"
   ]
  },
  {
   "cell_type": "code",
   "execution_count": 32,
   "id": "ea9e9601",
   "metadata": {},
   "outputs": [
    {
     "data": {
      "text/plain": [
       "0     ramthaapa@gmail.com\n",
       "2    shyamthapa@gmail.com\n",
       "Name: email, dtype: object"
      ]
     },
     "execution_count": 32,
     "metadata": {},
     "output_type": "execute_result"
    }
   ],
   "source": [
    "df.loc[filt,'email'] # shows the email column of filt "
   ]
  },
  {
   "cell_type": "markdown",
   "id": "a16c4b8b",
   "metadata": {},
   "source": [
    "Main advantage of df.loc[filt,'email'] is that we can more filter the filtered dataframe"
   ]
  },
  {
   "cell_type": "code",
   "execution_count": 33,
   "id": "bf90f12d",
   "metadata": {},
   "outputs": [
    {
     "data": {
      "text/plain": [
       "0    ramthaapa@gmail.com\n",
       "Name: email, dtype: object"
      ]
     },
     "execution_count": 33,
     "metadata": {},
     "output_type": "execute_result"
    }
   ],
   "source": [
    "filt = (df['last'] == 'Thapa')&(df['first']=='Ram')  # we can use and operator \n",
    "df.loc[filt,'email']"
   ]
  },
  {
   "cell_type": "code",
   "execution_count": 34,
   "id": "aad3c68c",
   "metadata": {},
   "outputs": [
    {
     "data": {
      "text/plain": [
       "0     ramthaapa@gmail.com\n",
       "2    shyamthapa@gmail.com\n",
       "Name: email, dtype: object"
      ]
     },
     "execution_count": 34,
     "metadata": {},
     "output_type": "execute_result"
    }
   ],
   "source": [
    "# using or operator\n",
    "\n",
    "filt = (df['last'] == 'Thapa')|(df['first']=='Ram') \n",
    "df.loc[filt,'email']"
   ]
  },
  {
   "cell_type": "code",
   "execution_count": 35,
   "id": "8a8f9e17",
   "metadata": {},
   "outputs": [
    {
     "data": {
      "text/plain": [
       "1    haripaudel@gmail.com\n",
       "Name: email, dtype: object"
      ]
     },
     "execution_count": 35,
     "metadata": {},
     "output_type": "execute_result"
    }
   ],
   "source": [
    "# if we just want to see the data opposite the conditions in filter we use tilde(~) just before the filt as\n",
    "\n",
    "df.loc[~filt,'email']"
   ]
  },
  {
   "cell_type": "code",
   "execution_count": null,
   "id": "0c003398",
   "metadata": {},
   "outputs": [],
   "source": []
  }
 ],
 "metadata": {
  "kernelspec": {
   "display_name": "Python 3 (ipykernel)",
   "language": "python",
   "name": "python3"
  },
  "language_info": {
   "codemirror_mode": {
    "name": "ipython",
    "version": 3
   },
   "file_extension": ".py",
   "mimetype": "text/x-python",
   "name": "python",
   "nbconvert_exporter": "python",
   "pygments_lexer": "ipython3",
   "version": "3.10.6"
  }
 },
 "nbformat": 4,
 "nbformat_minor": 5
}
